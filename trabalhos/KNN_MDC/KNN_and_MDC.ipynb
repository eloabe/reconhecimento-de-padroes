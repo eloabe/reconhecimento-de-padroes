{
 "cells": [
  {
   "cell_type": "markdown",
   "metadata": {
    "id": "dyo87Dpx2Tru"
   },
   "source": [
    "# Trabalho 1 de RP"
   ]
  },
  {
   "cell_type": "markdown",
   "metadata": {
    "id": "Xt134bw32WG-"
   },
   "source": [
    "## Importação de bibliotecas"
   ]
  },
  {
   "cell_type": "code",
   "execution_count": 1,
   "metadata": {
    "id": "v0p_xzCscvuP"
   },
   "outputs": [],
   "source": [
    "import os\n",
    "import random\n",
    "\n",
    "import numpy              as np\n",
    "import pandas             as pd\n",
    "import seaborn            as sns\n",
    "import scipy.stats        as ss\n",
    "import matplotlib.pyplot  as plt\n",
    "\n",
    "from collections                import Counter\n",
    "from sklearn.preprocessing      import MinMaxScaler\n",
    "from sklearn.model_selection    import train_test_split"
   ]
  },
  {
   "cell_type": "markdown",
   "metadata": {
    "id": "bV337glT2ZOe"
   },
   "source": [
    "## Carregamento dos dados"
   ]
  },
  {
   "cell_type": "code",
   "execution_count": 5,
   "metadata": {
    "id": "df9TdCnDdYaF"
   },
   "outputs": [],
   "source": [
    "#caminho absoluto para os dados\n",
    "audio_path = os.path.realpath('data/audio.txt')\n",
    "ecg_path = os.path.realpath('data/ecg.txt')\n",
    "\n",
    "audio = pd.read_fwf(audio_path, header=None).T\n",
    "ecg = pd.read_fwf(ecg_path, header=None).T"
   ]
  },
  {
   "cell_type": "code",
   "execution_count": 6,
   "metadata": {
    "colab": {
     "base_uri": "https://localhost:8080/",
     "height": 253
    },
    "id": "pPUR8v9giA2R",
    "outputId": "3c26af95-c44b-4ba7-91d5-a47f39aca589"
   },
   "outputs": [
    {
     "data": {
      "text/html": [
       "<div>\n",
       "<style scoped>\n",
       "    .dataframe tbody tr th:only-of-type {\n",
       "        vertical-align: middle;\n",
       "    }\n",
       "\n",
       "    .dataframe tbody tr th {\n",
       "        vertical-align: top;\n",
       "    }\n",
       "\n",
       "    .dataframe thead th {\n",
       "        text-align: right;\n",
       "    }\n",
       "</style>\n",
       "<table border=\"1\" class=\"dataframe\">\n",
       "  <thead>\n",
       "    <tr style=\"text-align: right;\">\n",
       "      <th></th>\n",
       "      <th>0</th>\n",
       "      <th>1</th>\n",
       "      <th>2</th>\n",
       "      <th>3</th>\n",
       "      <th>4</th>\n",
       "      <th>5</th>\n",
       "      <th>6</th>\n",
       "      <th>7</th>\n",
       "      <th>8</th>\n",
       "      <th>9</th>\n",
       "      <th>...</th>\n",
       "      <th>491</th>\n",
       "      <th>492</th>\n",
       "      <th>493</th>\n",
       "      <th>494</th>\n",
       "      <th>495</th>\n",
       "      <th>496</th>\n",
       "      <th>497</th>\n",
       "      <th>498</th>\n",
       "      <th>499</th>\n",
       "      <th>500</th>\n",
       "    </tr>\n",
       "  </thead>\n",
       "  <tbody>\n",
       "    <tr>\n",
       "      <th>0</th>\n",
       "      <td>-0.005149</td>\n",
       "      <td>-0.001660</td>\n",
       "      <td>-0.003860</td>\n",
       "      <td>-0.003754</td>\n",
       "      <td>0.002709</td>\n",
       "      <td>-0.000123</td>\n",
       "      <td>-0.002560</td>\n",
       "      <td>0.001240</td>\n",
       "      <td>-0.003455</td>\n",
       "      <td>-0.005611</td>\n",
       "      <td>...</td>\n",
       "      <td>0.016021</td>\n",
       "      <td>0.011144</td>\n",
       "      <td>0.001415</td>\n",
       "      <td>-0.002953</td>\n",
       "      <td>-0.012756</td>\n",
       "      <td>-0.016865</td>\n",
       "      <td>-0.015602</td>\n",
       "      <td>-0.018967</td>\n",
       "      <td>-0.014244</td>\n",
       "      <td>2.0</td>\n",
       "    </tr>\n",
       "    <tr>\n",
       "      <th>1</th>\n",
       "      <td>-0.117753</td>\n",
       "      <td>-0.191172</td>\n",
       "      <td>-0.095776</td>\n",
       "      <td>-0.069015</td>\n",
       "      <td>-0.298852</td>\n",
       "      <td>-0.224581</td>\n",
       "      <td>-0.088905</td>\n",
       "      <td>-0.148663</td>\n",
       "      <td>0.127519</td>\n",
       "      <td>-0.154734</td>\n",
       "      <td>...</td>\n",
       "      <td>0.766644</td>\n",
       "      <td>0.203609</td>\n",
       "      <td>0.174668</td>\n",
       "      <td>-0.140126</td>\n",
       "      <td>-0.238385</td>\n",
       "      <td>-0.671537</td>\n",
       "      <td>-0.816351</td>\n",
       "      <td>-0.821680</td>\n",
       "      <td>-0.735269</td>\n",
       "      <td>2.0</td>\n",
       "    </tr>\n",
       "    <tr>\n",
       "      <th>2</th>\n",
       "      <td>-0.531884</td>\n",
       "      <td>-0.102584</td>\n",
       "      <td>-0.307340</td>\n",
       "      <td>0.154307</td>\n",
       "      <td>-0.455531</td>\n",
       "      <td>-0.031878</td>\n",
       "      <td>-0.081085</td>\n",
       "      <td>-0.378268</td>\n",
       "      <td>-0.187602</td>\n",
       "      <td>0.072513</td>\n",
       "      <td>...</td>\n",
       "      <td>1.363380</td>\n",
       "      <td>0.716238</td>\n",
       "      <td>0.177158</td>\n",
       "      <td>-0.825243</td>\n",
       "      <td>-1.040234</td>\n",
       "      <td>-1.377452</td>\n",
       "      <td>-1.605749</td>\n",
       "      <td>-2.118144</td>\n",
       "      <td>-1.814519</td>\n",
       "      <td>2.0</td>\n",
       "    </tr>\n",
       "    <tr>\n",
       "      <th>3</th>\n",
       "      <td>-0.135808</td>\n",
       "      <td>-0.096242</td>\n",
       "      <td>-0.119334</td>\n",
       "      <td>-0.021121</td>\n",
       "      <td>-0.123060</td>\n",
       "      <td>-0.139165</td>\n",
       "      <td>0.019574</td>\n",
       "      <td>-0.125935</td>\n",
       "      <td>0.027199</td>\n",
       "      <td>-0.067951</td>\n",
       "      <td>...</td>\n",
       "      <td>0.314915</td>\n",
       "      <td>0.133274</td>\n",
       "      <td>-0.061850</td>\n",
       "      <td>-0.071172</td>\n",
       "      <td>-0.165596</td>\n",
       "      <td>-0.366608</td>\n",
       "      <td>-0.637880</td>\n",
       "      <td>-0.528150</td>\n",
       "      <td>-0.454956</td>\n",
       "      <td>2.0</td>\n",
       "    </tr>\n",
       "    <tr>\n",
       "      <th>4</th>\n",
       "      <td>-0.030297</td>\n",
       "      <td>-0.074934</td>\n",
       "      <td>-0.028709</td>\n",
       "      <td>-0.047723</td>\n",
       "      <td>-0.001417</td>\n",
       "      <td>0.003577</td>\n",
       "      <td>-0.068440</td>\n",
       "      <td>-0.058604</td>\n",
       "      <td>-0.021373</td>\n",
       "      <td>0.022441</td>\n",
       "      <td>...</td>\n",
       "      <td>0.220040</td>\n",
       "      <td>0.175154</td>\n",
       "      <td>0.100520</td>\n",
       "      <td>-0.084716</td>\n",
       "      <td>-0.123486</td>\n",
       "      <td>-0.225727</td>\n",
       "      <td>-0.255724</td>\n",
       "      <td>-0.229396</td>\n",
       "      <td>-0.244727</td>\n",
       "      <td>2.0</td>\n",
       "    </tr>\n",
       "  </tbody>\n",
       "</table>\n",
       "<p>5 rows × 501 columns</p>\n",
       "</div>"
      ],
      "text/plain": [
       "        0         1         2         3         4         5         6    \\\n",
       "0 -0.005149 -0.001660 -0.003860 -0.003754  0.002709 -0.000123 -0.002560   \n",
       "1 -0.117753 -0.191172 -0.095776 -0.069015 -0.298852 -0.224581 -0.088905   \n",
       "2 -0.531884 -0.102584 -0.307340  0.154307 -0.455531 -0.031878 -0.081085   \n",
       "3 -0.135808 -0.096242 -0.119334 -0.021121 -0.123060 -0.139165  0.019574   \n",
       "4 -0.030297 -0.074934 -0.028709 -0.047723 -0.001417  0.003577 -0.068440   \n",
       "\n",
       "        7         8         9    ...       491       492       493       494  \\\n",
       "0  0.001240 -0.003455 -0.005611  ...  0.016021  0.011144  0.001415 -0.002953   \n",
       "1 -0.148663  0.127519 -0.154734  ...  0.766644  0.203609  0.174668 -0.140126   \n",
       "2 -0.378268 -0.187602  0.072513  ...  1.363380  0.716238  0.177158 -0.825243   \n",
       "3 -0.125935  0.027199 -0.067951  ...  0.314915  0.133274 -0.061850 -0.071172   \n",
       "4 -0.058604 -0.021373  0.022441  ...  0.220040  0.175154  0.100520 -0.084716   \n",
       "\n",
       "        495       496       497       498       499  500  \n",
       "0 -0.012756 -0.016865 -0.015602 -0.018967 -0.014244  2.0  \n",
       "1 -0.238385 -0.671537 -0.816351 -0.821680 -0.735269  2.0  \n",
       "2 -1.040234 -1.377452 -1.605749 -2.118144 -1.814519  2.0  \n",
       "3 -0.165596 -0.366608 -0.637880 -0.528150 -0.454956  2.0  \n",
       "4 -0.123486 -0.225727 -0.255724 -0.229396 -0.244727  2.0  \n",
       "\n",
       "[5 rows x 501 columns]"
      ]
     },
     "execution_count": 6,
     "metadata": {},
     "output_type": "execute_result"
    }
   ],
   "source": [
    "#criando uma nova coluna em cada dataset para definir qual é a classe\n",
    "#vamos codificar as classes como ecg = 1 e audio = 2\n",
    "ecg[500] = 1\n",
    "audio[500] = 2\n",
    "\n",
    "#juntando os dois conjuntos de dados\n",
    "dados = pd.concat([audio, ecg]).reset_index(drop=True)\n",
    "dados[500] = dados[500].astype('float64')\n",
    "dados.head()"
   ]
  },
  {
   "cell_type": "markdown",
   "metadata": {
    "id": "EF2Nj27l2L77"
   },
   "source": [
    "## Questão 1 - Criar vetor de atributos dos dados"
   ]
  },
  {
   "cell_type": "code",
   "execution_count": 4,
   "metadata": {
    "colab": {
     "base_uri": "https://localhost:8080/",
     "height": 204
    },
    "id": "fgs8Qlqgh191",
    "outputId": "a38116a1-5cbe-474f-8e39-159ec86cf789"
   },
   "outputs": [
    {
     "data": {
      "text/html": [
       "<div>\n",
       "<style scoped>\n",
       "    .dataframe tbody tr th:only-of-type {\n",
       "        vertical-align: middle;\n",
       "    }\n",
       "\n",
       "    .dataframe tbody tr th {\n",
       "        vertical-align: top;\n",
       "    }\n",
       "\n",
       "    .dataframe thead th {\n",
       "        text-align: right;\n",
       "    }\n",
       "</style>\n",
       "<table border=\"1\" class=\"dataframe\">\n",
       "  <thead>\n",
       "    <tr style=\"text-align: right;\">\n",
       "      <th></th>\n",
       "      <th>Média</th>\n",
       "      <th>Desvio padrão</th>\n",
       "      <th>Assimetria</th>\n",
       "      <th>Curtose</th>\n",
       "      <th>Intervalo inter-quartil</th>\n",
       "    </tr>\n",
       "  </thead>\n",
       "  <tbody>\n",
       "    <tr>\n",
       "      <th>0</th>\n",
       "      <td>0.006098</td>\n",
       "      <td>0.090221</td>\n",
       "      <td>21.605849</td>\n",
       "      <td>475.056090</td>\n",
       "      <td>0.020396</td>\n",
       "    </tr>\n",
       "    <tr>\n",
       "      <th>1</th>\n",
       "      <td>0.091002</td>\n",
       "      <td>0.554305</td>\n",
       "      <td>-0.258629</td>\n",
       "      <td>-0.789312</td>\n",
       "      <td>0.860058</td>\n",
       "    </tr>\n",
       "    <tr>\n",
       "      <th>2</th>\n",
       "      <td>0.158652</td>\n",
       "      <td>1.078906</td>\n",
       "      <td>-0.340964</td>\n",
       "      <td>-0.964726</td>\n",
       "      <td>1.675028</td>\n",
       "    </tr>\n",
       "    <tr>\n",
       "      <th>3</th>\n",
       "      <td>0.047457</td>\n",
       "      <td>0.317557</td>\n",
       "      <td>0.113890</td>\n",
       "      <td>1.611331</td>\n",
       "      <td>0.475802</td>\n",
       "    </tr>\n",
       "    <tr>\n",
       "      <th>4</th>\n",
       "      <td>0.030319</td>\n",
       "      <td>0.188875</td>\n",
       "      <td>1.993624</td>\n",
       "      <td>21.961859</td>\n",
       "      <td>0.256980</td>\n",
       "    </tr>\n",
       "  </tbody>\n",
       "</table>\n",
       "</div>"
      ],
      "text/plain": [
       "      Média  Desvio padrão  Assimetria     Curtose  Intervalo inter-quartil\n",
       "0  0.006098       0.090221   21.605849  475.056090                 0.020396\n",
       "1  0.091002       0.554305   -0.258629   -0.789312                 0.860058\n",
       "2  0.158652       1.078906   -0.340964   -0.964726                 1.675028\n",
       "3  0.047457       0.317557    0.113890    1.611331                 0.475802\n",
       "4  0.030319       0.188875    1.993624   21.961859                 0.256980"
      ]
     },
     "execution_count": 4,
     "metadata": {
      "tags": []
     },
     "output_type": "execute_result"
    }
   ],
   "source": [
    "#calculando as estatísticas dos dados\n",
    "a1 = [dados.iloc[i, :].mean() for i in range(len(dados))]\n",
    "a2 = [dados.iloc[i, :].std() for i in range(len(dados))]\n",
    "a3 = [ss.skew(dados.iloc[i, :]) for i in range(len(dados))]\n",
    "a4 = [ss.kurtosis(dados.iloc[i, :]) for i in range(len(dados))]\n",
    "a5 = dados.apply(lambda x: ss.iqr(x), axis=1)\n",
    "\n",
    "atributos = pd.DataFrame([a1, a2, a3, a4, a5]).T\n",
    "atributos.columns = ['Média', 'Desvio padrão', 'Assimetria', 'Curtose', 'Intervalo inter-quartil']\n",
    "atributos.head()"
   ]
  },
  {
   "cell_type": "markdown",
   "metadata": {
    "id": "CYMkqLqD2kaf"
   },
   "source": [
    "## Questão 2 - Implementação dos algoritmos KNN (K Nearest Neighbors) e MDC (Minimum Distance to Centroid)"
   ]
  },
  {
   "cell_type": "code",
   "execution_count": 5,
   "metadata": {
    "id": "Wjw2WlJKcr35"
   },
   "outputs": [],
   "source": [
    "class KNN:\n",
    "  def __init__(self, k):\n",
    "    self.k = k\n",
    "\n",
    "  def fit(self, X, y):\n",
    "    self.X_train = X\n",
    "    self.y_train = y\n",
    "\n",
    "  def euclidean_distance(self, vetor, amostra):\n",
    "    r = list()\n",
    "\n",
    "    #calcula a distância euclidiana entre a amostra e cada linha do vetor\n",
    "    for row in vetor:\n",
    "      r.append(np.sqrt(np.sum(np.square(row - amostra))))\n",
    "    return r\n",
    "  \n",
    "  def calculate_k_neighbors_index(self, X_test):\n",
    "    distancias = list()\n",
    "\n",
    "    #calcula a distância euclidiana para cada amostra\n",
    "    for row in X_test:\n",
    "      distancias.append(self.euclidean_distance(self.X_train, row))\n",
    "\n",
    "    #reserva os índices dos elementos ordenados pela distância, da menor para a maior\n",
    "    indices = np.argsort(distancias)\n",
    "\n",
    "    #retorna apenas os índices do k vizinhos mais próximos p/ cada amostra (menores distâncias)\n",
    "    return indices[:, 0:self.k]\n",
    "\n",
    "  def predict(self, X_test):\n",
    "    lista_classes = list()\n",
    "    respostas = list()\n",
    "\n",
    "    indices_k_vizinhos = self.calculate_k_neighbors_index(X_test)\n",
    "\n",
    "    #reserva os valores das classes do k vizinhos mais próximos de cada amostra\n",
    "    for row in indices_k_vizinhos:\n",
    "      classes_k_vizinhos = self.y_train[row]\n",
    "      lista_classes.append(classes_k_vizinhos)\n",
    "\n",
    "    #calcula quantas vezes cada classe aparece entre os k vizinhos, para cada amostra, ordenadas da mais frequente para a menos frequente \n",
    "    #o primeiro elemento da tupla, c[0][0], representa a classe mais frequente, ou seja, a resposta do KNN.\n",
    "    for item in lista_classes:\n",
    "      c = Counter(item).most_common()\n",
    "      respostas.append(c[0][0])\n",
    "\n",
    "    return respostas\n",
    "\n",
    "  def score(self, X_test, y_real):\n",
    "    y_predito = self.predict(X_test)\n",
    "\n",
    "    acertos = 0\n",
    "\n",
    "    #calcula a proporção de quantas vezes o algoritmo fez uma previsão correta\n",
    "    for i in range(len(y_real)):\n",
    "      if y_real[i] == y_predito[i]:\n",
    "        acertos += 1\n",
    "\n",
    "    taxa_acerto = acertos / len(y_real)\n",
    "\n",
    "    return taxa_acerto"
   ]
  },
  {
   "cell_type": "markdown",
   "metadata": {
    "id": "AtCDdSnNnd8_"
   },
   "source": [
    "### Testando o KNN"
   ]
  },
  {
   "cell_type": "code",
   "execution_count": 6,
   "metadata": {
    "id": "NayOZiREncJP"
   },
   "outputs": [],
   "source": [
    "X = np.array(dados.drop(500, axis=1))\n",
    "y = np.array(dados[500])"
   ]
  },
  {
   "cell_type": "code",
   "execution_count": 7,
   "metadata": {
    "id": "_mA9Gt7gdCCp"
   },
   "outputs": [],
   "source": [
    "#normalizando os atributos para uma mesma escala\n",
    "mm = MinMaxScaler()\n",
    "X_norm = mm.fit_transform(X)\n",
    "\n",
    "#separando os dados em treino e teste\n",
    "X_train, X_test, y_train, y_test = train_test_split(X_norm, y, test_size=0.2)"
   ]
  },
  {
   "cell_type": "code",
   "execution_count": 509,
   "metadata": {
    "colab": {
     "base_uri": "https://localhost:8080/"
    },
    "id": "h1JO5laqw1Od",
    "outputId": "f56069ac-6edc-4435-85de-98652c65a1d9"
   },
   "outputs": [
    {
     "data": {
      "text/plain": [
       "0.95"
      ]
     },
     "execution_count": 509,
     "metadata": {
      "tags": []
     },
     "output_type": "execute_result"
    }
   ],
   "source": [
    "#treinando o algoritmo para k = 3\n",
    "k = KNN(3)\n",
    "k.fit(X_train, y_train)\n",
    "\n",
    "#calculando a acurácia\n",
    "k.score(X_test, y_test)"
   ]
  },
  {
   "cell_type": "markdown",
   "metadata": {
    "id": "V8VJd0ZgGMuZ"
   },
   "source": [
    "### Implementando o MDC"
   ]
  },
  {
   "cell_type": "code",
   "execution_count": 517,
   "metadata": {
    "id": "eqAzgn2EeSwp"
   },
   "outputs": [],
   "source": [
    "class MDC:\n",
    "  \"\"\"\n",
    "  No MDC, cada classe de treino tem um centroide. Baseado nisso, recebemos novas amostras,\n",
    "  calculamos seus centroides e classificamos de acordo com o centroide mais próximo entre\n",
    "  os das classes de treino.\n",
    "  \"\"\"\n",
    "  \n",
    "  def __init__(self):\n",
    "    pass\n",
    "\n",
    "  def fit(self, X, y):\n",
    "    self.X_train = X\n",
    "    self.y_train = y\n",
    "\n",
    "  def separate_classes(self, X, y):\n",
    "    #separa as amostras por classes, para calcular o centroide de cada uma\n",
    "\n",
    "    #encontra os valores únicos das classes\n",
    "    m = list(set(y)) \n",
    "    #guarda os índices e os valores de y\n",
    "    enum = list(enumerate(y)) \n",
    "\n",
    "    #dicionário com uma chave para cada classe\n",
    "    dicionario_y = {int(i): [] for i in m} \n",
    "\n",
    "    for k, v in dicionario_y.items():\n",
    "      for index, value in enum:\n",
    "        #separa as classes das amostras por índices\n",
    "        if int(value) == k: \n",
    "          v.append(index)\n",
    "\n",
    "    #encontrando as linhas de X correspondentes às de y, por classe\n",
    "    dicionario_x = {k: X[v] for k, v in dicionario_y.items()}\n",
    "\n",
    "    return dicionario_x\n",
    "\n",
    "  def calculate_centroids(self, X, y):\n",
    "    #calcula os centroides de cada classe\n",
    "\n",
    "    d = self.separate_classes(X, y)\n",
    "    centroids = [[k, np.mean(v)] for k, v in d.items()]\n",
    "\n",
    "    return centroids\n",
    "\n",
    "  def predict(self, X_test):\n",
    "    r = list()\n",
    "\n",
    "    centroides_treino = self.calculate_centroids(self.X_train, self.y_train)\n",
    "\n",
    "    #calculamos os centroides das amostras manualmente porque não temos os valores das classes, já que queremos prevê-las\n",
    "    centroides_amostras = list(enumerate([np.mean(row) for row in X_test]))\n",
    "\n",
    "    d = {i: [] for i in range(len(X_test))}\n",
    "\n",
    "    for row in centroides_amostras:\n",
    "      for i in range(len(centroides_treino)):\n",
    "        #reservamos em uma lista: o indice da amostra atual, o índice do centroide da classe atual e o valor absoluto\n",
    "        #da diferença entre o centroide da amostra atual e o centroide da classe atual\n",
    "        a = [row[0], centroides_treino[i][0], abs(row[1] - centroides_treino[i][1])]\n",
    "        r.append(a)\n",
    "\n",
    "    r = np.array(r)\n",
    "\n",
    "    respostas = list()\n",
    "\n",
    "    for i in range(len(r) - 1):\n",
    "      #verifica se estamos comparando as amostras de mesmo índice\n",
    "      if r[i, 0] == r[i+1, 0]: \n",
    "        #verificamos, para cada amostra, o menor valor entre as diferenças de seu centroide e os centroides das classes de treino,\n",
    "        #que corresponde ao terceiro elemento de r\n",
    "        min_centroid = min(r[i], r[i+1], key = lambda x: x[2])\n",
    "        respostas.append(min_centroid[1])\n",
    "\n",
    "    return respostas\n",
    "    \n",
    "\n",
    "  def score(self, X_test, y_real):\n",
    "    y_predito = self.predict(X_test)\n",
    "\n",
    "    acertos = 0\n",
    "\n",
    "    #calcula a proporção de quantas vezes o algoritmo fez uma previsão correta\n",
    "    for i in range(len(y_real)):\n",
    "      if y_real[i] == y_predito[i]:\n",
    "        acertos += 1\n",
    "\n",
    "    taxa_acerto = acertos / len(y_real)\n",
    "\n",
    "    return taxa_acerto"
   ]
  },
  {
   "cell_type": "markdown",
   "metadata": {
    "id": "KXdTmGnUCA50"
   },
   "source": [
    "## Questão 3 - Calcular a acurácia média após 10 realizações do MDC"
   ]
  },
  {
   "cell_type": "code",
   "execution_count": 520,
   "metadata": {
    "colab": {
     "base_uri": "https://localhost:8080/"
    },
    "id": "CAx-vyl2B5og",
    "outputId": "ae26cc96-7b10-43c4-8f38-8c0b495448a0"
   },
   "outputs": [
    {
     "name": "stdout",
     "output_type": "stream",
     "text": [
      "Média de acurácia do MDC: 0.75\n"
     ]
    }
   ],
   "source": [
    "#os dados já foram separados na proporção sugerida, para fazer os testes de implementação dos algoritmos\n",
    "\n",
    "for i in range(10):\n",
    "  acuracias_mdc = list()\n",
    "\n",
    "  X_train, X_test, y_train, y_test = train_test_split(X_norm, y, test_size=0.2)\n",
    "\n",
    "  m = MDC()\n",
    "  m.fit(X_train, y_train)\n",
    "  acuracias_mdc.append(m.score(X_test, y_test))\n",
    "\n",
    "print(f'Média de acurácia do MDC: {np.mean(acuracias_mdc)}')"
   ]
  },
  {
   "cell_type": "markdown",
   "metadata": {
    "id": "qfw3DHHgDBfv"
   },
   "source": [
    "## Questão 4 - Implementação da k-fold cross-validation e teste do KNN com K variando de 2 até 10, para uma 5-fold cv"
   ]
  },
  {
   "cell_type": "code",
   "execution_count": null,
   "metadata": {
    "id": "LWxciJis5e99"
   },
   "outputs": [],
   "source": [
    "def kfoldcv(X, y, k, objeto_knn):\n",
    "  \"\"\"\n",
    "  O cross-validation utilizando k-fold consiste em dividir os dados em\n",
    "  k partes iguais (ou aproximadamente iguais), para treinar com todos os dados\n",
    "  \n",
    "  Nesse método, escolhemos aleatoriamente uma parte do dataset para teste, e\n",
    "  deixamos o restante para treino.\n",
    "  \"\"\"\n",
    "\n",
    "  tamanho_fold = round(len(X)/k)\n",
    "\n",
    "  #armazenamos e embaralhamos os índices dos dados para satisfazer a aleatoriedade\n",
    "  indices = list(range(len(X)))\n",
    "  random.shuffle(indices)\n",
    "\n",
    "  #criando os índices dos intervalos de dados de acordo com o tamanho de cada fold\n",
    "  folds = [indices[x:x+tamanho_fold] for x in range(0, len(indices), tamanho_fold)]\n",
    "\n",
    "  acuracias = list()\n",
    "\n",
    "  for i in range(k):\n",
    "    indices_teste = folds[i]\n",
    "    X_teste = X[indices_teste]\n",
    "    y_teste = y[indices_teste]\n",
    "\n",
    "    indices_treino = []\n",
    "    for fold in folds:\n",
    "      if fold != indices_teste:\n",
    "        indices_treino.append(fold)\n",
    "\n",
    "    #transformando a lista de listas em uma lista só\n",
    "    indices_treino = [item for outer_list in indices_treino for item in outer_list]\n",
    "    X_treino = X[indices_treino]\n",
    "    y_treino = y[indices_treino]\n",
    "\n",
    "    objeto_knn.fit(X_treino, y_treino)\n",
    "    acuracias.append(objeto_knn.score(X_teste, y_teste))\n",
    "\n",
    "  return np.mean(acuracias)"
   ]
  },
  {
   "cell_type": "code",
   "execution_count": null,
   "metadata": {
    "colab": {
     "base_uri": "https://localhost:8080/"
    },
    "id": "cfqGVvine7H5",
    "outputId": "cbbbc8c4-3b35-4cf6-98fe-2ed5329a28da"
   },
   "outputs": [
    {
     "name": "stdout",
     "output_type": "stream",
     "text": [
      "Acurácia média para K = 2: 0.97\n",
      "Acurácia média para K = 3: 0.9400000000000001\n",
      "Acurácia média para K = 4: 0.9800000000000001\n",
      "Acurácia média para K = 5: 0.96\n",
      "Acurácia média para K = 6: 0.93\n",
      "Acurácia média para K = 7: 0.97\n",
      "Acurácia média para K = 8: 0.99\n",
      "Acurácia média para K = 9: 0.9200000000000002\n",
      "Acurácia média para K = 10: 0.96\n"
     ]
    }
   ],
   "source": [
    "for i in range(2, 11):\n",
    "  k = KNN(i)\n",
    "\n",
    "  print('Acurácia média para K = ' + str(i) + ': ' + str(kfoldcv(X_norm, y, 5, k)))"
   ]
  },
  {
   "cell_type": "markdown",
   "metadata": {
    "id": "vHLs0UNPDPse"
   },
   "source": [
    "Para esse teste, o melhor valor de K foi 8."
   ]
  }
 ],
 "metadata": {
  "colab": {
   "collapsed_sections": [
    "Xt134bw32WG-",
    "bV337glT2ZOe",
    "EF2Nj27l2L77",
    "CYMkqLqD2kaf",
    "AtCDdSnNnd8_",
    "V8VJd0ZgGMuZ",
    "KXdTmGnUCA50",
    "qfw3DHHgDBfv"
   ],
   "name": "galatasEloabe_rp_trab01.ipynb",
   "provenance": []
  },
  "kernelspec": {
   "display_name": "Python 3",
   "language": "python",
   "name": "python3"
  },
  "language_info": {
   "codemirror_mode": {
    "name": "ipython",
    "version": 3
   },
   "file_extension": ".py",
   "mimetype": "text/x-python",
   "name": "python",
   "nbconvert_exporter": "python",
   "pygments_lexer": "ipython3",
   "version": "3.8.7"
  }
 },
 "nbformat": 4,
 "nbformat_minor": 1
}
